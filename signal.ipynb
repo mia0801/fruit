{
 "cells": [
  {
   "cell_type": "code",
   "execution_count": 2,
   "id": "34b0d2bb-9ae7-4c26-8a1c-33b65c98466c",
   "metadata": {},
   "outputs": [
    {
     "name": "stdin",
     "output_type": "stream",
     "text": [
      "請輸入景氣對策信號綜合分數 23\n"
     ]
    },
    {
     "name": "stdout",
     "output_type": "stream",
     "text": [
      "綠燈\n"
     ]
    }
   ],
   "source": [
    "# 景氣對策信號\n",
    "\n",
    "score=int(input('請輸入景氣對策信號綜合分數'))\n",
    "if score>=45 or score<9:\n",
    "    print('錯誤')\n",
    "elif score>=37:\n",
    "     print('紅燈')\n",
    "elif score>=31:\n",
    "     print('黃紅燈')\n",
    "elif score>=22:\n",
    "     print('綠燈')\n",
    "elif score>=16:\n",
    "     print('藍黃燈')\n",
    "elif score>=9:\n",
    "     print('藍燈')"
   ]
  },
  {
   "cell_type": "code",
   "execution_count": null,
   "id": "965d2363-853d-4b48-85b5-ffee9a156ffe",
   "metadata": {},
   "outputs": [],
   "source": []
  }
 ],
 "metadata": {
  "kernelspec": {
   "display_name": "Python 3 (ipykernel)",
   "language": "python",
   "name": "python3"
  },
  "language_info": {
   "codemirror_mode": {
    "name": "ipython",
    "version": 3
   },
   "file_extension": ".py",
   "mimetype": "text/x-python",
   "name": "python",
   "nbconvert_exporter": "python",
   "pygments_lexer": "ipython3",
   "version": "3.11.7"
  }
 },
 "nbformat": 4,
 "nbformat_minor": 5
}
