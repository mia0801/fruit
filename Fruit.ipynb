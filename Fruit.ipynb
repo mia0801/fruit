{
 "cells": [
  {
   "cell_type": "code",
   "execution_count": 1,
   "id": "f0821709-0945-4730-a9f1-616106b501cd",
   "metadata": {},
   "outputs": [
    {
     "name": "stdout",
     "output_type": "stream",
     "text": [
      "Today's fruit is :Pear\n"
     ]
    }
   ],
   "source": [
    "# Choice fruits randomly\n",
    "\n",
    "import random\n",
    "\n",
    "fruits=['Apple','Orange', 'Banana', 'Pear', 'Tomato']\n",
    "cf=random.choice(fruits)\n",
    "\n",
    "print(\"Today's fruit is :\" + cf)"
   ]
  },
  {
   "cell_type": "code",
   "execution_count": null,
   "id": "369ebad6-9acb-4484-8615-941510c745c5",
   "metadata": {},
   "outputs": [],
   "source": []
  }
 ],
 "metadata": {
  "kernelspec": {
   "display_name": "Python 3 (ipykernel)",
   "language": "python",
   "name": "python3"
  },
  "language_info": {
   "codemirror_mode": {
    "name": "ipython",
    "version": 3
   },
   "file_extension": ".py",
   "mimetype": "text/x-python",
   "name": "python",
   "nbconvert_exporter": "python",
   "pygments_lexer": "ipython3",
   "version": "3.11.7"
  }
 },
 "nbformat": 4,
 "nbformat_minor": 5
}
