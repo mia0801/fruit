{
 "cells": [
  {
   "cell_type": "code",
   "execution_count": 1,
   "id": "667c07e8-6b26-4994-bfc8-9cc4d83e4fb2",
   "metadata": {},
   "outputs": [
    {
     "name": "stdin",
     "output_type": "stream",
     "text": [
      "請輸入淨年所得額: 3330000\n"
     ]
    },
    {
     "name": "stdout",
     "output_type": "stream",
     "text": [
      "應繳稅額= 607000.0\n"
     ]
    }
   ],
   "source": [
    "level1=560000*0.05\n",
    "level2=(1260000-560000)*0.12\n",
    "level3=(2520000-1260000)*0.2\n",
    "level4=(4720000-2520000)*0.3\n",
    "income=int(input('請輸入淨年所得額:'))\n",
    "\n",
    "if income <= 560000:\n",
    "\ttax=income*0.05\n",
    "\n",
    "elif income <= 1260000:\n",
    "\ttax=level1+((income-560000)*0.12)\n",
    "\n",
    "elif income <= 2520000:\n",
    "\ttax=level1+level2+((income-1260000)*0.2)\n",
    "\n",
    "\n",
    "elif income <= 4720000:\n",
    "\ttax=level1+level2+level3+((income-2520000)*0.3)\n",
    "\n",
    "else:\n",
    "\ttax=level1+level2+level3+level4+((income-4720000)*0.4)\n",
    "\n",
    "print('應繳稅額=', tax)"
   ]
  },
  {
   "cell_type": "code",
   "execution_count": null,
   "id": "af021af9-0696-431e-87c7-34e7c106004e",
   "metadata": {},
   "outputs": [],
   "source": []
  }
 ],
 "metadata": {
  "kernelspec": {
   "display_name": "Python 3 (ipykernel)",
   "language": "python",
   "name": "python3"
  },
  "language_info": {
   "codemirror_mode": {
    "name": "ipython",
    "version": 3
   },
   "file_extension": ".py",
   "mimetype": "text/x-python",
   "name": "python",
   "nbconvert_exporter": "python",
   "pygments_lexer": "ipython3",
   "version": "3.11.7"
  }
 },
 "nbformat": 4,
 "nbformat_minor": 5
}
